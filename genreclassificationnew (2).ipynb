{
 "cells": [
  {
   "cell_type": "code",
   "execution_count": 89,
   "metadata": {
    "collapsed": true,
    "deletable": true,
    "editable": true
   },
   "outputs": [],
   "source": [
    "import os #operations related to operationg system\n",
    "import numpy #since we deal with multidimensional arrays\n",
    "from pandas import DataFrame #since we need a dataframe in our model\n",
    "import io #for reading files of corresponding path given\n",
    "from sklearn.feature_extraction.text import CountVectorizer #we use TF-IDF concept in this model. Hence we use Countvectorization\n",
    "from sklearn.naive_bayes import MultinomialNB #we use naive bayes model to classify the class \n"
   ]
  },
  {
   "cell_type": "code",
   "execution_count": 90,
   "metadata": {
    "collapsed": true,
    "deletable": true,
    "editable": true
   },
   "outputs": [],
   "source": [
    "def readfiles(path): #we are writing a function for reading files \n",
    "    for root, dirnames, filenames in os.walk(path): #allpying for loop to iterate each file in the given path,to read the path we use os library\n",
    "        for filename in filenames: #for a file in n number of files\n",
    "            path = os.path.join(root,filename) #for each iteration join the filename to the respective path\n",
    "            \n",
    "            inbody = False #initializing\n",
    "            lines = [] #creating a list\n",
    "            f = io.open(path,'r',encoding=\"latin-1\") #to open each path and read ,encode using utf-8\n",
    "            for line in f: #for every file in the file concatenate all words\n",
    "                if inbody:\n",
    "                    lines.append(line) #append the line to the user created list LINES\n",
    "                elif line=='\\n': #when we see a nextline,concatenate all the line\n",
    "                    inbody=True\n",
    "            f.close()\n",
    "            message = '\\n'.join(lines) #whenever we see a nextline, join the line to the first line\n",
    "            yield path,message #output path and the message\n",
    "            \n",
    "        "
   ]
  },
  {
   "cell_type": "code",
   "execution_count": 91,
   "metadata": {
    "collapsed": true,
    "deletable": true,
    "editable": true
   },
   "outputs": [],
   "source": [
    "def matrixdataframe(path, genre): #creating a function for getting a dataframe\n",
    "    rows = [] #creating a list\n",
    "    index = [] #creating a list\n",
    "    for path , message in readfiles(path): \n",
    "        rows.append( {'message':message,'genre':genre})  #append message and genre to rows\n",
    "        index.append(path) #append path to index\n",
    "    return DataFrame(rows,index=index) #get a dataframe\n",
    "\n",
    "data = DataFrame({'message' : [] , 'genre' : []}) #\n",
    "data = data.append(matrixdataframe('D:\\\\data science\\\\gd\\\\romance\\\\trainromance','romance'))\n",
    "data = data.append(matrixdataframe('D:\\\\data science\\gd\\\\mystery\\\\trainmystery','mystery'))\n",
    "data = data.append(matrixdataframe('D:\\\\data science\\\\gd\\\\drama\\\\traindrama','drama'))\n",
    "data = data.append(matrixdataframe('D:\\\\data science\\\\gd\\\\sci-fic\\\\trainsci-fic','sci-fi'))\n",
    "#data = data.append(matrixdataframe('D:\\\\data science\\\\Books project\\\\Text books','crime'))\n",
    "#data = data.append(matrixdataframe('D:\\\\data science\\\\Books project\\\\ham','not crime'))"
   ]
  },
  {
   "cell_type": "code",
   "execution_count": 92,
   "metadata": {
    "collapsed": false,
    "deletable": true,
    "editable": true
   },
   "outputs": [
    {
     "data": {
      "text/html": [
       "<div>\n",
       "<style>\n",
       "    .dataframe thead tr:only-child th {\n",
       "        text-align: right;\n",
       "    }\n",
       "\n",
       "    .dataframe thead th {\n",
       "        text-align: left;\n",
       "    }\n",
       "\n",
       "    .dataframe tbody tr th {\n",
       "        vertical-align: top;\n",
       "    }\n",
       "</style>\n",
       "<table border=\"1\" class=\"dataframe\">\n",
       "  <thead>\n",
       "    <tr style=\"text-align: right;\">\n",
       "      <th></th>\n",
       "      <th>genre</th>\n",
       "      <th>message</th>\n",
       "    </tr>\n",
       "  </thead>\n",
       "  <tbody>\n",
       "    <tr>\n",
       "      <th>D:\\data science\\gd\\romance\\trainromance\\ABC Amber LIT Converter - Elijah.epub</th>\n",
       "      <td>romance</td>\n",
       "      <td>Ö¥UXÐ¯ûWúi1w/B`FN[Ù®~Ï¦$m&amp;Mrth[\u00051ÉÞ|...</td>\n",
       "    </tr>\n",
       "    <tr>\n",
       "      <th>D:\\data science\\gd\\romance\\trainromance\\Abduction of Julia, The - Karen Hawkins.epub</th>\n",
       "      <td>romance</td>\n",
       "      <td>8þ\u000eÿyfÅt}\u0017Ý-lÚÿíl'äïú \bæ\u0001Uéy´\u0006:\\tG\u0002ÎA³ê±...</td>\n",
       "    </tr>\n",
       "    <tr>\n",
       "      <th>D:\\data science\\gd\\romance\\trainromance\\AgaintheMagic - Again The Magic.epub</th>\n",
       "      <td>romance</td>\n",
       "      <td>ü\u0011\u001e",
       "éâgú\u0010¼¥OÊ%ðÚ\u001fù´V\u001f»6òô_DÙ\u0015Ïè@p(ÙÒY-Q·Òl...</td>\n",
       "    </tr>\n",
       "    <tr>\n",
       "      <th>D:\\data science\\gd\\romance\\trainromance\\And the Bride Wore Plaid - Karen Hawkins.epub</th>\n",
       "      <td>romance</td>\n",
       "      <td>Ùñ×óÀéÖ»wß×Ä\u0010ü\f",
       "\u0015³¥ÔÃÜxoªCøâ§öþÙò¦þ÷ú/ã,³...</td>\n",
       "    </tr>\n",
       "    <tr>\n",
       "      <th>D:\\data science\\gd\\romance\\trainromance\\And Then He Kissed Her - Laura Lee Guhrke.epub</th>\n",
       "      <td>romance</td>\n",
       "      <td>^Ð\u001b\u0011\u0011ØjQ\u00122î«éP×\u0019Ù\u000ee-WÃÀç5¶ó\u001d",
       "",
       "üºf[ú#tdIÜÃþ...</td>\n",
       "    </tr>\n",
       "    <tr>\n",
       "      <th>D:\\data science\\gd\\romance\\trainromance\\Anna-Tears of the Renegade.epub</th>\n",
       "      <td>romance</td>\n",
       "      <td>éód§1&amp;ÐìF:ÝCÉÐ±#àv&lt;îw®\u0015L\u001c",
       "AÓe¬=Þ.Ý­Þ\f",
       "JSRsµ5...</td>\n",
       "    </tr>\n",
       "    <tr>\n",
       "      <th>D:\\data science\\gd\\romance\\trainromance\\Apocalypse_ The Lords of Deliverance Compendium - Larissa Ione.epub</th>\n",
       "      <td>romance</td>\n",
       "      <td>V\\t£¥\u001e",
       "\u0007ÛE|ÄS×\u0006WKXÔÆ3WK¦ºÃ¨H\u0014\u000b",
       "¡n\u0002Åà{5&amp;nEÞ\u0013Û...</td>\n",
       "    </tr>\n",
       "    <tr>\n",
       "      <th>D:\\data science\\gd\\romance\\trainromance\\Ashes of Midnight - Lara Adrian.epub</th>\n",
       "      <td>romance</td>\n",
       "      <td>9 Â.m\u001b¿Æd\u0007óõm6º4óC\u00002ü\u000e»s¦\u001fh=\\n\\n¾ßÖ9ÜE\u000f+áþL...</td>\n",
       "    </tr>\n",
       "    <tr>\n",
       "      <th>D:\\data science\\gd\\romance\\trainromance\\Baby's Watch - Justine Davis.epub</th>\n",
       "      <td>romance</td>\n",
       "      <td>;Ö\u0016u\\n\\nN\u000e\\n\\nFö\u0018",
       "íÇs¼×~!&lt;J\u0018§ªÉ\u0007çà}8I5ä®...</td>\n",
       "    </tr>\n",
       "    <tr>\n",
       "      <th>D:\\data science\\gd\\romance\\trainromance\\Beauty and the Beast - Hannah Howell.epub</th>\n",
       "      <td>romance</td>\n",
       "      <td>Mò\u000b",
       "~6»Xö¹4}Ð\u0004È`D?_õÜ³¾¼CM¦©À*µRÙ2Ñ^ï&lt;le\"}v¢...</td>\n",
       "    </tr>\n",
       "    <tr>\n",
       "      <th>D:\\data science\\gd\\romance\\trainromance\\Beauty in Breeches - Helen Dickson.epub</th>\n",
       "      <td>romance</td>\n",
       "      <td>Ät½ªRÿ`¨\u001b\\¢©©ì©Ã1÷õ^ìinÄ\u0013wù|m|S\u001d",
       "k,ônõ...</td>\n",
       "    </tr>\n",
       "    <tr>\n",
       "      <th>D:\\data science\\gd\\romance\\trainromance\\Beauty Like the Night - LIZ CARLYLE.epub</th>\n",
       "      <td>romance</td>\n",
       "      <td>H ®Ã5ôë¢ßÓs)\u00188LkÖDb&amp;\u0014ïn`%àÞ\u00142 \\\u0000æëáÏjg:...</td>\n",
       "    </tr>\n",
       "    <tr>\n",
       "      <th>D:\\data science\\gd\\romance\\trainromance\\Belated Bride, A - Karen Hawkins.epub</th>\n",
       "      <td>romance</td>\n",
       "      <td>ÒÝ!%Ý  êÿûû¯\u001b/÷áÞ»ÏãÞç¬õÙ{íz8ÿþm\u0000ÈT\u0010J\u0000 \u0010\bÿ...</td>\n",
       "    </tr>\n",
       "    <tr>\n",
       "      <th>D:\\data science\\gd\\romance\\trainromance\\Beloved Wolf - Kasey Michaels.epub</th>\n",
       "      <td>romance</td>\n",
       "      <td>×«\u0002C\u001e",
       "%°I¥íV\\n\\nÆ¹y°\\n\\n4õÊ,nOVD$î\\þ\u0014;ùUMjà=\\...</td>\n",
       "    </tr>\n",
       "    <tr>\n",
       "      <th>D:\\data science\\gd\\romance\\trainromance\\Bodyguard - Jennifer Ashley.epub</th>\n",
       "      <td>romance</td>\n",
       "      <td></td>\n",
       "    </tr>\n",
       "    <tr>\n",
       "      <th>D:\\data science\\gd\\romance\\trainromance\\Bolthor's Bride - Sandra Hill.epub</th>\n",
       "      <td>romance</td>\n",
       "      <td>øÙ\\n\\nê\\n\\n1_¯ÉD×\u000fm÷*!Åãjç@\\S \býûOo%:¡ó(¹...</td>\n",
       "    </tr>\n",
       "    <tr>\n",
       "      <th>D:\\data science\\gd\\romance\\trainromance\\Born to Be Wild - Catherine Coulter.epub</th>\n",
       "      <td>romance</td>\n",
       "      <td>Ú\u000fË1\u0016ôU\u0004w\u0004Z9£",
       "Ðéøö\u0017Î\u0007yTEAºJº(\u0017û\f",
       "\b\u0016\f",
       "ñBllj...</td>\n",
       "    </tr>\n",
       "    <tr>\n",
       "      <th>D:\\data science\\gd\\romance\\trainromance\\Breath of Snow and Ashes, A - Diana Gabaldon.epub</th>\n",
       "      <td>romance</td>\n",
       "      <td>*ÙîÐù¹UU_Á¬Ù\u0016GÁð=\u000b",
       "Yqæ/iÇ1ZÏ\f",
       "}X#\u0016]\u0012g...</td>\n",
       "    </tr>\n",
       "    <tr>\n",
       "      <th>D:\\data science\\gd\\romance\\trainromance\\Brenda Joyce - Dark Rival - Brenda Joyce.epub</th>\n",
       "      <td>romance</td>\n",
       "      <td>èYuçãÚl¼Wÿ\u001e",
       "dÓöªG}\u001e",
       "Á3\u000f9Ô ÜÀXÓ\u001f7]\u0018h\u0010(þ³³6...</td>\n",
       "    </tr>\n",
       "    <tr>\n",
       "      <th>D:\\data science\\gd\\romance\\trainromance\\Brides of Privilege - Kasey Michaels &amp; Ruth Ryan Langan &amp; Carolyn Zane.epub</th>\n",
       "      <td>romance</td>\n",
       "      <td>¦&gt;lÅÍXrÅp)¸Úä~ªGP\u0011&lt;q\u0003\u001e",
       " |\u001ffJ§kê\\tâAõ÷\u0011\u0010z¼...</td>\n",
       "    </tr>\n",
       "    <tr>\n",
       "      <th>D:\\data science\\gd\\romance\\trainromance\\Brighter Than the Sun - Julia Quinn.epub</th>\n",
       "      <td>romance</td>\n",
       "      <td>ô\u0012\u0011éÒ\u0005¤£ U¤÷\u0012\u0005éMºÒ;R#B@ºtPz\u000b",
       "½$ ½\u0004\u0002\u0010\u001bûûö&gt;...</td>\n",
       "    </tr>\n",
       "    <tr>\n",
       "      <th>D:\\data science\\gd\\romance\\trainromance\\Brockway, Connie - All Through The Night.epub</th>\n",
       "      <td>romance</td>\n",
       "      <td>f±üîËKÖÆ¬d\u0019¯¤§3GOÉìß±ÆJ\u0000ùfnDð²ËO*\u001f]o£aQ_...</td>\n",
       "    </tr>\n",
       "    <tr>\n",
       "      <th>D:\\data science\\gd\\romance\\trainromance\\Brockway, Connie - Rose Hunters 01 - My Seduction.epub</th>\n",
       "      <td>romance</td>\n",
       "      <td>Ç\u0006T¸\\sh\u001fäI$£\u001c",
       "T;\u0006\\n\\nØsá«\u000e§ÁQ¿x&gt;Ñ/}¼ú¦\\\u0010...</td>\n",
       "    </tr>\n",
       "    <tr>\n",
       "      <th>D:\\data science\\gd\\romance\\trainromance\\Brockway, Connie - Rose Hunters 03 - My Surrender.epub</th>\n",
       "      <td>romance</td>\n",
       "      <td>¨d;8y:!\u0000GÅ\u0012Â¦lØa&gt;µ#³fÌÚ(\u0001^ù\u0018Z¾éûÙÚÅ\u000b",
       "ü...</td>\n",
       "    </tr>\n",
       "    <tr>\n",
       "      <th>D:\\data science\\gd\\romance\\trainromance\\Brockway, Connie- Rose Hunters 02 - My Pleasure.epub</th>\n",
       "      <td>romance</td>\n",
       "      <td>c½\u0016Å±ã·ñ,\u0014z'õ\u0000¡ø{V\u0000[k\u0013íe\u0016½ñ}ÇÕH¯Rmº=O7¬Ë\u001ff...</td>\n",
       "    </tr>\n",
       "    <tr>\n",
       "      <th>D:\\data science\\gd\\romance\\trainromance\\Brockway, Connie-As You Desire.epub</th>\n",
       "      <td>romance</td>\n",
       "      <td>[L\u0012*j\u001a1¥A\u0010ó¦ö&gt;øGÑ\u0004¶ûxù",
       "±o\f",
       "çy¿Eº\b`,QRÉÊr...</td>\n",
       "    </tr>\n",
       "    <tr>\n",
       "      <th>D:\\data science\\gd\\romance\\trainromance\\Brockway, Connie-My Dearest Enemy.epub</th>\n",
       "      <td>romance</td>\n",
       "      <td>j",
       "x6Òô\\n\\nRoÌµÛCô¦µ±ðÕR\u0010p\bÃ»]ØDrÔ­P\u0015ýa\u0001\f",
       "'...</td>\n",
       "    </tr>\n",
       "    <tr>\n",
       "      <th>D:\\data science\\gd\\romance\\trainromance\\Brockway, Connie-Promise Me Heaven.epub</th>\n",
       "      <td>romance</td>\n",
       "      <td>\u0013%\u0018K¿HÛ18ØI\\n\\n¬O\\s&amp;4\\Q\"\b³&amp;P\u0018çx\f",
       "½ÛG\u0018a¨p*\u0001...</td>\n",
       "    </tr>\n",
       "    <tr>\n",
       "      <th>D:\\data science\\gd\\romance\\trainromance\\Broken - A. E. Rought.epub</th>\n",
       "      <td>romance</td>\n",
       "      <td>E\u0018ô±Â\"B9ÃÜwõ\u001b¨\u001f\u000b",
       "B'Y}ãi_ß[i1²ð\u0017Ý­¦yëØFøÙ\u0004i...</td>\n",
       "    </tr>\n",
       "    <tr>\n",
       "      <th>D:\\data science\\gd\\romance\\trainromance\\Carlyle, Liz - Never Deceive A Duke.epub</th>\n",
       "      <td>romance</td>\n",
       "      <td>Àã³\u001b¿î\\t\u0003Æ«O\u000b",
       "\u0007¡\u0012%\\n\\n¬ÚL\u0002Û\u001ak¯\u001d",
       "4ûOÒT|n\u00177l...</td>\n",
       "    </tr>\n",
       "    <tr>\n",
       "      <th>...</th>\n",
       "      <td>...</td>\n",
       "      <td>...</td>\n",
       "    </tr>\n",
       "    <tr>\n",
       "      <th>D:\\data science\\gd\\sci-fic\\trainsci-fic\\pg14152.epub</th>\n",
       "      <td>sci-fi</td>\n",
       "      <td>\u0015\u0010òÝwß\\t·¯\\¹\"äW&gt;}fÍ%\u0014 ë×¯¯­­5[áªU«Ä'zB",
       "åÊ\u001e",
       "...</td>\n",
       "    </tr>\n",
       "    <tr>\n",
       "      <th>D:\\data science\\gd\\sci-fic\\trainsci-fic\\pg159.epub</th>\n",
       "      <td>sci-fi</td>\n",
       "      <td>Jé$¦\u000f{\\{Hö:Ú\\tIÜ&amp;MÔ:÷ÌÀ\u0018TMfy\u000fQù®ûR$µ\u001bá\u001e",
       " ...</td>\n",
       "    </tr>\n",
       "    <tr>\n",
       "      <th>D:\\data science\\gd\\sci-fic\\trainsci-fic\\pg16448.epub</th>\n",
       "      <td>sci-fi</td>\n",
       "      <td>\\n\\n\u001d",
       "&lt;xpIIÉ%KôÒ~\\þ'íÜ¹s·oß¶Ç«Ò·o_½^¿mÛ6î¬...</td>\n",
       "    </tr>\n",
       "    <tr>\n",
       "      <th>D:\\data science\\gd\\sci-fic\\trainsci-fic\\pg1951.epub</th>\n",
       "      <td>sci-fi</td>\n",
       "      <td>\u0004\bìrÑò3ð\u000f08L\u0002ät%âùC´øx_°^!¨Þy»ÝE·VjìÉ:e...</td>\n",
       "    </tr>\n",
       "    <tr>\n",
       "      <th>D:\\data science\\gd\\sci-fic\\trainsci-fic\\pg2488.epub</th>\n",
       "      <td>sci-fi</td>\n",
       "      <td>Þ£¯çT(¤°Ñî\u000e»z¤XêI\u0001QòPb+hÂ1Ñ\u0019JNNìµkgçEæ;3\u0003...</td>\n",
       "    </tr>\n",
       "    <tr>\n",
       "      <th>D:\\data science\\gd\\sci-fic\\trainsci-fic\\pg2820.epub</th>\n",
       "      <td>sci-fi</td>\n",
       "      <td></td>\n",
       "    </tr>\n",
       "    <tr>\n",
       "      <th>D:\\data science\\gd\\sci-fic\\trainsci-fic\\pg3251.epub</th>\n",
       "      <td>sci-fi</td>\n",
       "      <td>É¥Z²³\u001e",
       "Tq\u000fb}\u0005\u001e",
       "¸+×5\\n\\n\\HO/5llj+Øßõ...</td>\n",
       "    </tr>\n",
       "    <tr>\n",
       "      <th>D:\\data science\\gd\\sci-fic\\trainsci-fic\\pg35.epub</th>\n",
       "      <td>sci-fi</td>\n",
       "      <td>\\n\\n,îw¿ûÝ´iÓ\u0016-Z´aÃßÿþ÷ò\u0016\\n\\n\u0000¡\u0014ê\u0011VzzzCCãÇ\u0000...</td>\n",
       "    </tr>\n",
       "    <tr>\n",
       "      <th>D:\\data science\\gd\\sci-fic\\trainsci-fic\\pg3526.epub</th>\n",
       "      <td>sci-fi</td>\n",
       "      <td>öéG£8FÊ\u0012[IÔÿU(ö,Àk?Æu¯ýnöB­\b\u0002M+\u0018Ej\u0004v...</td>\n",
       "    </tr>\n",
       "    <tr>\n",
       "      <th>D:\\data science\\gd\\sci-fic\\trainsci-fic\\pg36.epub</th>\n",
       "      <td>sci-fi</td>\n",
       "      <td>Ø§ZI²\u001b ÝÔ\u001a¥{ª¸Ü\u0019JÆ\u000faTo5y-¡\u0011ªAu&gt;õEµç/ç«ªqµ...</td>\n",
       "    </tr>\n",
       "    <tr>\n",
       "      <th>D:\\data science\\gd\\sci-fic\\trainsci-fic\\pg3748.epub</th>\n",
       "      <td>sci-fi</td>\n",
       "      <td>E«¼è/òüpX7HT)",
       "±{U¯²±)\\n\\n\u0010³+%\u0010Õaq\u001b¶\u0010&amp;à(¹...</td>\n",
       "    </tr>\n",
       "    <tr>\n",
       "      <th>D:\\data science\\gd\\sci-fic\\trainsci-fic\\pg3809.epub</th>\n",
       "      <td>sci-fi</td>\n",
       "      <td>­2NF+giÉ\u0018Ì~Û,îû~/¶]~b\u000f$/4¹ñÍ²V'[",
       "ü\f",
       "\u0015v¨...</td>\n",
       "    </tr>\n",
       "    <tr>\n",
       "      <th>D:\\data science\\gd\\sci-fic\\trainsci-fic\\pg42.epub</th>\n",
       "      <td>sci-fi</td>\n",
       "      <td>\\n\\nýÇ?þa:¾}û\u001e",
       "?~&lt;77W«Õ8q\u001d",
       "ê\u000e\u0004$ûPí?\u0016566²S...</td>\n",
       "    </tr>\n",
       "    <tr>\n",
       "      <th>D:\\data science\\gd\\sci-fic\\trainsci-fic\\pg43.epub</th>\n",
       "      <td>sci-fi</td>\n",
       "      <td>(¢¡;\u0000QE\u0014î\u0001E\u0014TQE\u0014\u0001\u0015\u0014QZ",
       "*ÒR­\u0000Ç\u000e´êhëO4¹\f",
       "JÀ×´f...</td>\n",
       "    </tr>\n",
       "    <tr>\n",
       "      <th>D:\\data science\\gd\\sci-fic\\trainsci-fic\\pg5230.epub</th>\n",
       "      <td>sci-fi</td>\n",
       "      <td>èW).\u001d",
       "ºh\u0014ÙFÂä­éÛ\u001c",
       "¢Qöt5\u0010g\u0012Z³ðw|í5:2âüáÜÐTU...</td>\n",
       "    </tr>\n",
       "    <tr>\n",
       "      <th>D:\\data science\\gd\\sci-fic\\trainsci-fic\\pg5803.epub</th>\n",
       "      <td>sci-fi</td>\n",
       "      <td>ÒÞ²m±Ó¦ðÆ\u000b",
       "[óy\u000e\u0018¹S!]ßÛÜT&lt;ý½³#b4ækT¥\u00185å¬v¬ºÉ:...</td>\n",
       "    </tr>\n",
       "    <tr>\n",
       "      <th>D:\\data science\\gd\\sci-fic\\trainsci-fic\\pg62.epub</th>\n",
       "      <td>sci-fi</td>\n",
       "      <td>W\u0001 \u0000Ì\u0010{\u0006\u000e",
       "½&gt;Al\u0002p¾zRº\"~:7\u000eã8°7¡!n\bMÄézzx²n...</td>\n",
       "    </tr>\n",
       "    <tr>\n",
       "      <th>D:\\data science\\gd\\sci-fic\\trainsci-fic\\pg7431.epub</th>\n",
       "      <td>sci-fi</td>\n",
       "      <td>\\n\\nâonó¹\u0010m¦¿ÍØµk\u0017{Ð»wï­[·~øá+W®\u0014ûÅd2\\tç...</td>\n",
       "    </tr>\n",
       "    <tr>\n",
       "      <th>D:\\data science\\gd\\sci-fic\\trainsci-fic\\pg83.epub</th>\n",
       "      <td>sci-fi</td>\n",
       "      <td>*«½ÿÍNÍ´\\n\\nqêèPødH\u0018\u0015\u0012µ\\n\\n=Æ}Ö,\u00023\\¶\\n...</td>\n",
       "    </tr>\n",
       "    <tr>\n",
       "      <th>D:\\data science\\gd\\sci-fic\\trainsci-fic\\pg84.epub</th>\n",
       "      <td>sci-fi</td>\n",
       "      <td>O¸Áái¸ª\u0003AÊ\u0010iu®¥¤\u0013C,\u0011 Ap6¬Æ]2Æ\u0019ìK4?õ\u0014¦Â|X...</td>\n",
       "    </tr>\n",
       "    <tr>\n",
       "      <th>D:\\data science\\gd\\sci-fic\\trainsci-fic\\pg8993.epub</th>\n",
       "      <td>sci-fi</td>\n",
       "      <td>®Ê¹\u001bKNkÕä¶¤yóæEGG?óÌ3\u000b",
       "\u0016,ÈÌÌÔæ¿øâ7ÝtÓ'|òÅ\u0017_Ü...</td>\n",
       "    </tr>\n",
       "    <tr>\n",
       "      <th>D:\\data science\\gd\\sci-fic\\trainsci-fic\\planet-x91-beginning-stewart-obooko.epub</th>\n",
       "      <td>sci-fi</td>\n",
       "      <td>&amp;±rZ54Lß\u0018¿±sÌÁò0n\u0007b;£¾¤äòßm,9ÕaU\u00071Ñb}F...</td>\n",
       "    </tr>\n",
       "    <tr>\n",
       "      <th>D:\\data science\\gd\\sci-fic\\trainsci-fic\\SpooksAndMagic-obooko-fan0085.epub</th>\n",
       "      <td>sci-fi</td>\n",
       "      <td>\u0000òï\u0000&lt;?\u0001Ää´\u0015dt5´Eim­¸\u001c",
       "¾XÛÒzòróÐ²z¸Ù¶¥U\u0001)Ñ4\u0015...</td>\n",
       "    </tr>\n",
       "    <tr>\n",
       "      <th>D:\\data science\\gd\\sci-fic\\trainsci-fic\\Survivors-obooko-scifi0193.epub</th>\n",
       "      <td>sci-fi</td>\n",
       "      <td>Ö'1\u0005\\r))¡\bðRx\u00138êUDhøyo\u0015ÉMÐ\\ÒüÈ\u000fdø¯TØ\u0014Ø\u0014ÌºB...</td>\n",
       "    </tr>\n",
       "    <tr>\n",
       "      <th>D:\\data science\\gd\\sci-fic\\trainsci-fic\\the-birth-miriam-yvette-obooko.epub</th>\n",
       "      <td>sci-fi</td>\n",
       "      <td>Ð\u0004d±Fæ1ÇKªL GäÿS&lt;V|ÔéíÔ\u001d",
       "¾®$~(êµµÝÄ=m®Ü¦è&gt;\u001a...</td>\n",
       "    </tr>\n",
       "    <tr>\n",
       "      <th>D:\\data science\\gd\\sci-fic\\trainsci-fic\\the-legacy-of-solomon-obooko.epub</th>\n",
       "      <td>sci-fi</td>\n",
       "      <td>}iw \u00170æW¶\u0013à|\u0005\u001c",
       "Ë\u0001z&gt;ð(Èt\u0001ÿ\u001d",
       "RÐ¹èw-è\u000b",
       "àC³æ\u0003...</td>\n",
       "    </tr>\n",
       "    <tr>\n",
       "      <th>D:\\data science\\gd\\sci-fic\\trainsci-fic\\The-Memory-Man-obooko-thr0328.epub</th>\n",
       "      <td>sci-fi</td>\n",
       "      <td>\u0004\\n\\nNìLð{¼[?s\u000b",
       "c4F2^\f",
       "ý¯ùMÑVÓIz\u001d",
       "&gt;ùH³EsïÜîc...</td>\n",
       "    </tr>\n",
       "    <tr>\n",
       "      <th>D:\\data science\\gd\\sci-fic\\trainsci-fic\\The-Missing-Link-obooko-thr0331.epub</th>\n",
       "      <td>sci-fi</td>\n",
       "      <td>531¡\f",
       "$U\u0005\u0001tÜ;DbÛ@úS\u001e",
       "×Ìg\u0018*Hé¢5@VÇ©Ïõ¼S\u0013õ...</td>\n",
       "    </tr>\n",
       "    <tr>\n",
       "      <th>D:\\data science\\gd\\sci-fic\\trainsci-fic\\TheHiddenTruth-obooko-new0033.epub</th>\n",
       "      <td>sci-fi</td>\n",
       "      <td>¡U2ßÜ-\u0007Á\\n\\nz÷\u0001\u0013ðü6ÎO2uË\u000fóM8½ò*\u001d",
       "ª?ZÍ\u0004Ûó|...</td>\n",
       "    </tr>\n",
       "    <tr>\n",
       "      <th>D:\\data science\\gd\\sci-fic\\trainsci-fic\\TwiHard-obooko-tya0098.epub</th>\n",
       "      <td>sci-fi</td>\n",
       "      <td>°9ìSç*Í{2*ì\u0000¹\u0019[Rg¹!Û\u0000%¯Î\u0002Õ$õn.IÍ·­ú\u0014ô\u0006ktLè...</td>\n",
       "    </tr>\n",
       "  </tbody>\n",
       "</table>\n",
       "<p>160 rows × 2 columns</p>\n",
       "</div>"
      ],
      "text/plain": [
       "                                                      genre  \\\n",
       "D:\\data science\\gd\\romance\\trainromance\\ABC Amb...  romance   \n",
       "D:\\data science\\gd\\romance\\trainromance\\Abducti...  romance   \n",
       "D:\\data science\\gd\\romance\\trainromance\\Againth...  romance   \n",
       "D:\\data science\\gd\\romance\\trainromance\\And the...  romance   \n",
       "D:\\data science\\gd\\romance\\trainromance\\And The...  romance   \n",
       "D:\\data science\\gd\\romance\\trainromance\\Anna-Te...  romance   \n",
       "D:\\data science\\gd\\romance\\trainromance\\Apocaly...  romance   \n",
       "D:\\data science\\gd\\romance\\trainromance\\Ashes o...  romance   \n",
       "D:\\data science\\gd\\romance\\trainromance\\Baby's ...  romance   \n",
       "D:\\data science\\gd\\romance\\trainromance\\Beauty ...  romance   \n",
       "D:\\data science\\gd\\romance\\trainromance\\Beauty ...  romance   \n",
       "D:\\data science\\gd\\romance\\trainromance\\Beauty ...  romance   \n",
       "D:\\data science\\gd\\romance\\trainromance\\Belated...  romance   \n",
       "D:\\data science\\gd\\romance\\trainromance\\Beloved...  romance   \n",
       "D:\\data science\\gd\\romance\\trainromance\\Bodygua...  romance   \n",
       "D:\\data science\\gd\\romance\\trainromance\\Bolthor...  romance   \n",
       "D:\\data science\\gd\\romance\\trainromance\\Born to...  romance   \n",
       "D:\\data science\\gd\\romance\\trainromance\\Breath ...  romance   \n",
       "D:\\data science\\gd\\romance\\trainromance\\Brenda ...  romance   \n",
       "D:\\data science\\gd\\romance\\trainromance\\Brides ...  romance   \n",
       "D:\\data science\\gd\\romance\\trainromance\\Brighte...  romance   \n",
       "D:\\data science\\gd\\romance\\trainromance\\Brockwa...  romance   \n",
       "D:\\data science\\gd\\romance\\trainromance\\Brockwa...  romance   \n",
       "D:\\data science\\gd\\romance\\trainromance\\Brockwa...  romance   \n",
       "D:\\data science\\gd\\romance\\trainromance\\Brockwa...  romance   \n",
       "D:\\data science\\gd\\romance\\trainromance\\Brockwa...  romance   \n",
       "D:\\data science\\gd\\romance\\trainromance\\Brockwa...  romance   \n",
       "D:\\data science\\gd\\romance\\trainromance\\Brockwa...  romance   \n",
       "D:\\data science\\gd\\romance\\trainromance\\Broken ...  romance   \n",
       "D:\\data science\\gd\\romance\\trainromance\\Carlyle...  romance   \n",
       "...                                                     ...   \n",
       "D:\\data science\\gd\\sci-fic\\trainsci-fic\\pg14152...   sci-fi   \n",
       "D:\\data science\\gd\\sci-fic\\trainsci-fic\\pg159.epub   sci-fi   \n",
       "D:\\data science\\gd\\sci-fic\\trainsci-fic\\pg16448...   sci-fi   \n",
       "D:\\data science\\gd\\sci-fic\\trainsci-fic\\pg1951....   sci-fi   \n",
       "D:\\data science\\gd\\sci-fic\\trainsci-fic\\pg2488....   sci-fi   \n",
       "D:\\data science\\gd\\sci-fic\\trainsci-fic\\pg2820....   sci-fi   \n",
       "D:\\data science\\gd\\sci-fic\\trainsci-fic\\pg3251....   sci-fi   \n",
       "D:\\data science\\gd\\sci-fic\\trainsci-fic\\pg35.epub    sci-fi   \n",
       "D:\\data science\\gd\\sci-fic\\trainsci-fic\\pg3526....   sci-fi   \n",
       "D:\\data science\\gd\\sci-fic\\trainsci-fic\\pg36.epub    sci-fi   \n",
       "D:\\data science\\gd\\sci-fic\\trainsci-fic\\pg3748....   sci-fi   \n",
       "D:\\data science\\gd\\sci-fic\\trainsci-fic\\pg3809....   sci-fi   \n",
       "D:\\data science\\gd\\sci-fic\\trainsci-fic\\pg42.epub    sci-fi   \n",
       "D:\\data science\\gd\\sci-fic\\trainsci-fic\\pg43.epub    sci-fi   \n",
       "D:\\data science\\gd\\sci-fic\\trainsci-fic\\pg5230....   sci-fi   \n",
       "D:\\data science\\gd\\sci-fic\\trainsci-fic\\pg5803....   sci-fi   \n",
       "D:\\data science\\gd\\sci-fic\\trainsci-fic\\pg62.epub    sci-fi   \n",
       "D:\\data science\\gd\\sci-fic\\trainsci-fic\\pg7431....   sci-fi   \n",
       "D:\\data science\\gd\\sci-fic\\trainsci-fic\\pg83.epub    sci-fi   \n",
       "D:\\data science\\gd\\sci-fic\\trainsci-fic\\pg84.epub    sci-fi   \n",
       "D:\\data science\\gd\\sci-fic\\trainsci-fic\\pg8993....   sci-fi   \n",
       "D:\\data science\\gd\\sci-fic\\trainsci-fic\\planet-...   sci-fi   \n",
       "D:\\data science\\gd\\sci-fic\\trainsci-fic\\SpooksA...   sci-fi   \n",
       "D:\\data science\\gd\\sci-fic\\trainsci-fic\\Survivo...   sci-fi   \n",
       "D:\\data science\\gd\\sci-fic\\trainsci-fic\\the-bir...   sci-fi   \n",
       "D:\\data science\\gd\\sci-fic\\trainsci-fic\\the-leg...   sci-fi   \n",
       "D:\\data science\\gd\\sci-fic\\trainsci-fic\\The-Mem...   sci-fi   \n",
       "D:\\data science\\gd\\sci-fic\\trainsci-fic\\The-Mis...   sci-fi   \n",
       "D:\\data science\\gd\\sci-fic\\trainsci-fic\\TheHidd...   sci-fi   \n",
       "D:\\data science\\gd\\sci-fic\\trainsci-fic\\TwiHard...   sci-fi   \n",
       "\n",
       "                                                                                              message  \n",
       "D:\\data science\\gd\\romance\\trainromance\\ABC Amb...  Ö¥UXÐ¯ûWúi1w/B`FN[Ù®~Ï¦$m&Mrth[\u00051ÉÞ|...  \n",
       "D:\\data science\\gd\\romance\\trainromance\\Abducti...  8þ\u000eÿyfÅt}\u0017Ý-lÚÿíl'äïú \bæ\u0001Uéy´\u0006:\\tG\u0002ÎA³ê±...  \n",
       "D:\\data science\\gd\\romance\\trainromance\\Againth...  ü\u0011\n",
       "éâgú\u0010¼¥OÊ%ðÚ\u001fù´V\u001f»6òô_DÙ\u0015Ïè@p(ÙÒY-Q·Òl...  \n",
       "D:\\data science\\gd\\romance\\trainromance\\And the...  Ùñ×óÀéÖ»wß×Ä\u0010ü\n",
       "\u0015³¥ÔÃÜxoªCøâ§öþÙò¦þ÷ú/ã,³...  \n",
       "D:\\data science\\gd\\romance\\trainromance\\And The...  ^Ð\u001b\u0011\u0011ØjQ\u00122î«éP×\u0019Ù\u000ee-WÃÀç5¶ó\n",
       "\n",
       "üºf[ú#tdIÜÃþ...  \n",
       "D:\\data science\\gd\\romance\\trainromance\\Anna-Te...  éód§1&ÐìF:ÝCÉÐ±#àv<îw®\u0015L\n",
       "AÓe¬=Þ.Ý­Þ\n",
       "JSRsµ5...  \n",
       "D:\\data science\\gd\\romance\\trainromance\\Apocaly...  V\\t£¥\n",
       "\u0007ÛE|ÄS×\u0006WKXÔÆ3WK¦ºÃ¨H\u0014\n",
       "¡n\u0002Åà{5&nEÞ\u0013Û...  \n",
       "D:\\data science\\gd\\romance\\trainromance\\Ashes o...  9 Â.m\u001b¿Æd\u0007óõm6º4óC\u00002ü\u000e»s¦\u001fh=\\n\\n¾ßÖ9ÜE\u000f+áþL...  \n",
       "D:\\data science\\gd\\romance\\trainromance\\Baby's ...  ;Ö\u0016u\\n\\nN\u000e\\n\\nFö\u0018\n",
       "íÇs¼×~!<J\u0018§ªÉ\u0007çà}8I5ä®...  \n",
       "D:\\data science\\gd\\romance\\trainromance\\Beauty ...  Mò\n",
       "~6»Xö¹4}Ð\u0004È`D?_õÜ³¾¼CM¦©À*µRÙ2Ñ^ï<le\"}v¢...  \n",
       "D:\\data science\\gd\\romance\\trainromance\\Beauty ...  Ät½ªRÿ`¨\u001b\\¢©©ì©Ã1÷õ^ìinÄ\u0013wù|m|S\n",
       "k,ônõ...  \n",
       "D:\\data science\\gd\\romance\\trainromance\\Beauty ...  H ®Ã5ôë¢ßÓs)\u00188LkÖDb&\u0014ïn`%àÞ\u00142 \\\u0000æëáÏjg:...  \n",
       "D:\\data science\\gd\\romance\\trainromance\\Belated...  ÒÝ!%Ý  êÿûû¯\u001b/÷áÞ»ÏãÞç¬õÙ{íz8ÿþm\u0000ÈT\u0010J\u0000 \u0010\bÿ...  \n",
       "D:\\data science\\gd\\romance\\trainromance\\Beloved...  ×«\u0002C\n",
       "%°I¥íV\\n\\nÆ¹y°\\n\\n4õÊ,nOVD$î\\þ\u0014;ùUMjà=\\...  \n",
       "D:\\data science\\gd\\romance\\trainromance\\Bodygua...                                                     \n",
       "D:\\data science\\gd\\romance\\trainromance\\Bolthor...  øÙ\\n\\nê\\n\\n1_¯ÉD×\u000fm÷*!Åãjç@\\S \býûOo%:¡ó(¹...  \n",
       "D:\\data science\\gd\\romance\\trainromance\\Born to...  Ú\u000fË1\u0016ôU\u0004w\u0004Z9£\n",
       "Ðéøö\u0017Î\u0007yTEAºJº(\u0017û\n",
       "\b\u0016\n",
       "ñBllj...  \n",
       "D:\\data science\\gd\\romance\\trainromance\\Breath ...  *ÙîÐù¹UU_Á¬Ù\u0016GÁð=\n",
       "Yqæ/iÇ1ZÏ\n",
       "}X#\u0016]\u0012g...  \n",
       "D:\\data science\\gd\\romance\\trainromance\\Brenda ...  èYuçãÚl¼Wÿ\n",
       "dÓöªG}\n",
       "Á3\u000f9Ô ÜÀXÓ\u001f7]\u0018h\u0010(þ³³6...  \n",
       "D:\\data science\\gd\\romance\\trainromance\\Brides ...  ¦>lÅÍXrÅp)¸Úä~ªGP\u0011<q\u0003\n",
       " |\u001ffJ§kê\\tâAõ÷\u0011\u0010z¼...  \n",
       "D:\\data science\\gd\\romance\\trainromance\\Brighte...  ô\u0012\u0011éÒ\u0005¤£ U¤÷\u0012\u0005éMºÒ;R#B@ºtPz\n",
       "½$ ½\u0004\u0002\u0010\u001bûûö>...  \n",
       "D:\\data science\\gd\\romance\\trainromance\\Brockwa...  f±üîËKÖÆ¬d\u0019¯¤§3GOÉìß±ÆJ\u0000ùfnDð²ËO*\u001f]o£aQ_...  \n",
       "D:\\data science\\gd\\romance\\trainromance\\Brockwa...  Ç\u0006T¸\\sh\u001fäI$£\n",
       "T;\u0006\\n\\nØsá«\u000e§ÁQ¿x>Ñ/}¼ú¦\\\u0010...  \n",
       "D:\\data science\\gd\\romance\\trainromance\\Brockwa...  ¨d;8y:!\u0000GÅ\u0012Â¦lØa>µ#³fÌÚ(\u0001^ù\u0018Z¾éûÙÚÅ\n",
       "ü...  \n",
       "D:\\data science\\gd\\romance\\trainromance\\Brockwa...  c½\u0016Å±ã·ñ,\u0014z'õ\u0000¡ø{V\u0000[k\u0013íe\u0016½ñ}ÇÕH¯Rmº=O7¬Ë\u001ff...  \n",
       "D:\\data science\\gd\\romance\\trainromance\\Brockwa...  [L\u0012*j\u001a1¥A\u0010ó¦ö>øGÑ\u0004¶ûxù\n",
       "±o\n",
       "çy¿Eº\b`,QRÉÊr...  \n",
       "D:\\data science\\gd\\romance\\trainromance\\Brockwa...  j\n",
       "x6Òô\\n\\nRoÌµÛCô¦µ±ðÕR\u0010p\bÃ»]ØDrÔ­P\u0015ýa\u0001\n",
       "'...  \n",
       "D:\\data science\\gd\\romance\\trainromance\\Brockwa...  \u0013%\u0018K¿HÛ18ØI\\n\\n¬O\\s&4\\Q\"\b³&P\u0018çx\n",
       "½ÛG\u0018a¨p*\u0001...  \n",
       "D:\\data science\\gd\\romance\\trainromance\\Broken ...  E\u0018ô±Â\"B9ÃÜwõ\u001b¨\u001f\n",
       "B'Y}ãi_ß[i1²ð\u0017Ý­¦yëØFøÙ\u0004i...  \n",
       "D:\\data science\\gd\\romance\\trainromance\\Carlyle...  Àã³\u001b¿î\\t\u0003Æ«O\n",
       "\u0007¡\u0012%\\n\\n¬ÚL\u0002Û\u001ak¯\n",
       "4ûOÒT|n\u00177l...  \n",
       "...                                                                                               ...  \n",
       "D:\\data science\\gd\\sci-fic\\trainsci-fic\\pg14152...  \u0015\u0010òÝwß\\t·¯\\¹\"äW>}fÍ%\u0014 ë×¯¯­­5[áªU«Ä'zB\n",
       "åÊ\n",
       "...  \n",
       "D:\\data science\\gd\\sci-fic\\trainsci-fic\\pg159.epub  Jé$¦\u000f{\\{Hö:Ú\\tIÜ&MÔ:÷ÌÀ\u0018TMfy\u000fQù®ûR$µ\u001bá\n",
       " ...  \n",
       "D:\\data science\\gd\\sci-fic\\trainsci-fic\\pg16448...  \\n\\n\n",
       "<xpIIÉ%KôÒ~\\þ'íÜ¹s·oß¶Ç«Ò·o_½^¿mÛ6î¬...  \n",
       "D:\\data science\\gd\\sci-fic\\trainsci-fic\\pg1951....  \u0004\bìrÑò3ð\u000f08L\u0002ät%âùC´øx_°^!¨Þy»ÝE·VjìÉ:e...  \n",
       "D:\\data science\\gd\\sci-fic\\trainsci-fic\\pg2488....  Þ£¯çT(¤°Ñî\u000e»z¤XêI\u0001QòPb+hÂ1Ñ\u0019JNNìµkgçEæ;3\u0003...  \n",
       "D:\\data science\\gd\\sci-fic\\trainsci-fic\\pg2820....                                                     \n",
       "D:\\data science\\gd\\sci-fic\\trainsci-fic\\pg3251....  É¥Z²³\n",
       "Tq\u000fb}\u0005\n",
       "¸+×5\\n\\n\\HO/5llj+Øßõ...  \n",
       "D:\\data science\\gd\\sci-fic\\trainsci-fic\\pg35.epub   \\n\\n,îw¿ûÝ´iÓ\u0016-Z´aÃßÿþ÷ò\u0016\\n\\n\u0000¡\u0014ê\u0011VzzzCCãÇ\u0000...  \n",
       "D:\\data science\\gd\\sci-fic\\trainsci-fic\\pg3526....  öéG£8FÊ\u0012[IÔÿU(ö,Àk?Æu¯ýnöB­\b\u0002M+\u0018Ej\u0004v...  \n",
       "D:\\data science\\gd\\sci-fic\\trainsci-fic\\pg36.epub   Ø§ZI²\u001b ÝÔ\u001a¥{ª¸Ü\u0019JÆ\u000faTo5y-¡\u0011ªAu>õEµç/ç«ªqµ...  \n",
       "D:\\data science\\gd\\sci-fic\\trainsci-fic\\pg3748....  E«¼è/òüpX7HT)\n",
       "±{U¯²±)\\n\\n\u0010³+%\u0010Õaq\u001b¶\u0010&à(¹...  \n",
       "D:\\data science\\gd\\sci-fic\\trainsci-fic\\pg3809....  ­2NF+giÉ\u0018Ì~Û,îû~/¶]~b\u000f$/4¹ñÍ²V'[\n",
       "ü\n",
       "\u0015v¨...  \n",
       "D:\\data science\\gd\\sci-fic\\trainsci-fic\\pg42.epub   \\n\\nýÇ?þa:¾}û\n",
       "?~<77W«Õ8q\n",
       "ê\u000e\u0004$ûPí?\u0016566²S...  \n",
       "D:\\data science\\gd\\sci-fic\\trainsci-fic\\pg43.epub   (¢¡;\u0000QE\u0014î\u0001E\u0014TQE\u0014\u0001\u0015\u0014QZ\n",
       "*ÒR­\u0000Ç\u000e´êhëO4¹\n",
       "JÀ×´f...  \n",
       "D:\\data science\\gd\\sci-fic\\trainsci-fic\\pg5230....  èW).\n",
       "ºh\u0014ÙFÂä­éÛ\n",
       "¢Qöt5\u0010g\u0012Z³ðw|í5:2âüáÜÐTU...  \n",
       "D:\\data science\\gd\\sci-fic\\trainsci-fic\\pg5803....  ÒÞ²m±Ó¦ðÆ\n",
       "[óy\u000e\u0018¹S!]ßÛÜT<ý½³#b4ækT¥\u00185å¬v¬ºÉ:...  \n",
       "D:\\data science\\gd\\sci-fic\\trainsci-fic\\pg62.epub   W\u0001 \u0000Ì\u0010{\u0006\u000e\n",
       "½>Al\u0002p¾zRº\"~:7\u000eã8°7¡!n\bMÄézzx²n...  \n",
       "D:\\data science\\gd\\sci-fic\\trainsci-fic\\pg7431....  \\n\\nâonó¹\u0010m¦¿ÍØµk\u0017{Ð»wï­[·~øá+W®\u0014ûÅd2\\tç...  \n",
       "D:\\data science\\gd\\sci-fic\\trainsci-fic\\pg83.epub   *«½ÿÍNÍ´\\n\\nqêèPødH\u0018\u0015\u0012µ\\n\\n=Æ}Ö,\u00023\\¶\\n...  \n",
       "D:\\data science\\gd\\sci-fic\\trainsci-fic\\pg84.epub   O¸Áái¸ª\u0003AÊ\u0010iu®¥¤\u0013C,\u0011 Ap6¬Æ]2Æ\u0019ìK4?õ\u0014¦Â|X...  \n",
       "D:\\data science\\gd\\sci-fic\\trainsci-fic\\pg8993....  ®Ê¹\u001bKNkÕä¶¤yóæEGG?óÌ3\n",
       "\u0016,ÈÌÌÔæ¿øâ7ÝtÓ'|òÅ\u0017_Ü...  \n",
       "D:\\data science\\gd\\sci-fic\\trainsci-fic\\planet-...  &±rZ54Lß\u0018¿±sÌÁò0n\u0007b;£¾¤äòßm,9ÕaU\u00071Ñb}F...  \n",
       "D:\\data science\\gd\\sci-fic\\trainsci-fic\\SpooksA...  \u0000òï\u0000<?\u0001Ää´\u0015dt5´Eim­¸\n",
       "¾XÛÒzòróÐ²z¸Ù¶¥U\u0001)Ñ4\u0015...  \n",
       "D:\\data science\\gd\\sci-fic\\trainsci-fic\\Survivo...  Ö'1\u0005\\r))¡\bðRx\u00138êUDhøyo\u0015ÉMÐ\\ÒüÈ\u000fdø¯TØ\u0014Ø\u0014ÌºB...  \n",
       "D:\\data science\\gd\\sci-fic\\trainsci-fic\\the-bir...  Ð\u0004d±Fæ1ÇKªL GäÿS<V|ÔéíÔ\n",
       "¾®$~(êµµÝÄ=m®Ü¦è>\u001a...  \n",
       "D:\\data science\\gd\\sci-fic\\trainsci-fic\\the-leg...  }iw \u00170æW¶\u0013à|\u0005\n",
       "Ë\u0001z>ð(Èt\u0001ÿ\n",
       "RÐ¹èw-è\n",
       "àC³æ\u0003...  \n",
       "D:\\data science\\gd\\sci-fic\\trainsci-fic\\The-Mem...  \u0004\\n\\nNìLð{¼[?s\n",
       "c4F2^\n",
       "ý¯ùMÑVÓIz\n",
       ">ùH³EsïÜîc...  \n",
       "D:\\data science\\gd\\sci-fic\\trainsci-fic\\The-Mis...  531¡\n",
       "$U\u0005\u0001tÜ;DbÛ@úS\n",
       "×Ìg\u0018*Hé¢5@VÇ©Ïõ¼S\u0013õ...  \n",
       "D:\\data science\\gd\\sci-fic\\trainsci-fic\\TheHidd...  ¡U2ßÜ-\u0007Á\\n\\nz÷\u0001\u0013ðü6ÎO2uË\u000fóM8½ò*\n",
       "ª?ZÍ\u0004Ûó|...  \n",
       "D:\\data science\\gd\\sci-fic\\trainsci-fic\\TwiHard...  °9ìSç*Í{2*ì\u0000¹\u0019[Rg¹!Û\u0000%¯Î\u0002Õ$õn.IÍ·­ú\u0014ô\u0006ktLè...  \n",
       "\n",
       "[160 rows x 2 columns]"
      ]
     },
     "execution_count": 92,
     "metadata": {},
     "output_type": "execute_result"
    }
   ],
   "source": [
    "data #data=dataframe,give the heading of the dataframe\n"
   ]
  },
  {
   "cell_type": "code",
   "execution_count": 93,
   "metadata": {
    "collapsed": false,
    "deletable": true,
    "editable": true
   },
   "outputs": [
    {
     "data": {
      "text/plain": [
       "MultinomialNB(alpha=1.0, class_prior=None, fit_prior=True)"
      ]
     },
     "execution_count": 93,
     "metadata": {},
     "output_type": "execute_result"
    }
   ],
   "source": [
    "vectorizer = CountVectorizer() \n",
    "counts = vectorizer.fit_transform(data['message'].values) #countvectorize the values of message\n",
    "\n",
    "classifier = MultinomialNB()\n",
    "targets = data['genre'].values #classify using the naivebayes theorem with the values of genre\n",
    "\n",
    "classifier.fit(counts, targets) "
   ]
  },
  {
   "cell_type": "code",
   "execution_count": 94,
   "metadata": {
    "collapsed": false,
    "deletable": true,
    "editable": true
   },
   "outputs": [],
   "source": [
    "rowss = []\n",
    "indexx = []\n",
    "trainingpath = 'D:\\\\data science\\\\gd\\\\testdata'\n",
    "for root,dirnames,filenames in os.walk(trainingpath):\n",
    "    for filename in filenames:\n",
    "        newpath = os.path.join(root,filename)\n",
    "        indexx.append(newpath)\n",
    "        inbody = False #initializing\n",
    "        lines = [] #creating a list\n",
    "        f = io.open(newpath,'r',encoding=\"latin-1\") #to open each path and read ,encode using utf-8\n",
    "        for line in f: #for every file in the file concatenate all words\n",
    "            if inbody:\n",
    "                lines.append(line) #append the line to the user created list LINES\n",
    "            elif line=='\\n': #when we see a nextline,concatenate all the line\n",
    "                inbody=True\n",
    "        f.close()\n",
    "        message1 = '\\n'.join(lines)\n",
    "        message1 = [message1]\n",
    "        example_counts = vectorizer.transform(message1)\n",
    "        predictions = classifier.predict(example_counts)\n",
    "        predictions\n",
    "        rowss.append({'genre' : predictions})\n",
    "       \n",
    "        #DataFrame(rowss,indexx)\n",
    "    #result = []\n",
    "    #result.append(predictions)\n",
    "    #predictions\n",
    "    "
   ]
  },
  {
   "cell_type": "code",
   "execution_count": 95,
   "metadata": {
    "collapsed": false
   },
   "outputs": [
    {
     "data": {
      "text/plain": [
       "['d1.epub',\n",
       " 'd2.epub',\n",
       " 'm1.epub',\n",
       " 'm2.epub',\n",
       " 'r1.epub',\n",
       " 'r2.epub',\n",
       " 's1.epub',\n",
       " 's2.epub']"
      ]
     },
     "execution_count": 95,
     "metadata": {},
     "output_type": "execute_result"
    }
   ],
   "source": [
    "filenames"
   ]
  },
  {
   "cell_type": "code",
   "execution_count": 96,
   "metadata": {
    "collapsed": false
   },
   "outputs": [
    {
     "data": {
      "text/html": [
       "<div>\n",
       "<style>\n",
       "    .dataframe thead tr:only-child th {\n",
       "        text-align: right;\n",
       "    }\n",
       "\n",
       "    .dataframe thead th {\n",
       "        text-align: left;\n",
       "    }\n",
       "\n",
       "    .dataframe tbody tr th {\n",
       "        vertical-align: top;\n",
       "    }\n",
       "</style>\n",
       "<table border=\"1\" class=\"dataframe\">\n",
       "  <thead>\n",
       "    <tr style=\"text-align: right;\">\n",
       "      <th></th>\n",
       "      <th>genre</th>\n",
       "    </tr>\n",
       "  </thead>\n",
       "  <tbody>\n",
       "    <tr>\n",
       "      <th>D:\\data science\\gd\\testdata\\d1.epub</th>\n",
       "      <td>[mystery]</td>\n",
       "    </tr>\n",
       "    <tr>\n",
       "      <th>D:\\data science\\gd\\testdata\\d2.epub</th>\n",
       "      <td>[mystery]</td>\n",
       "    </tr>\n",
       "    <tr>\n",
       "      <th>D:\\data science\\gd\\testdata\\m1.epub</th>\n",
       "      <td>[sci-fi]</td>\n",
       "    </tr>\n",
       "    <tr>\n",
       "      <th>D:\\data science\\gd\\testdata\\m2.epub</th>\n",
       "      <td>[sci-fi]</td>\n",
       "    </tr>\n",
       "    <tr>\n",
       "      <th>D:\\data science\\gd\\testdata\\r1.epub</th>\n",
       "      <td>[mystery]</td>\n",
       "    </tr>\n",
       "    <tr>\n",
       "      <th>D:\\data science\\gd\\testdata\\r2.epub</th>\n",
       "      <td>[mystery]</td>\n",
       "    </tr>\n",
       "    <tr>\n",
       "      <th>D:\\data science\\gd\\testdata\\s1.epub</th>\n",
       "      <td>[mystery]</td>\n",
       "    </tr>\n",
       "    <tr>\n",
       "      <th>D:\\data science\\gd\\testdata\\s2.epub</th>\n",
       "      <td>[mystery]</td>\n",
       "    </tr>\n",
       "  </tbody>\n",
       "</table>\n",
       "</div>"
      ],
      "text/plain": [
       "                                         genre\n",
       "D:\\data science\\gd\\testdata\\d1.epub  [mystery]\n",
       "D:\\data science\\gd\\testdata\\d2.epub  [mystery]\n",
       "D:\\data science\\gd\\testdata\\m1.epub   [sci-fi]\n",
       "D:\\data science\\gd\\testdata\\m2.epub   [sci-fi]\n",
       "D:\\data science\\gd\\testdata\\r1.epub  [mystery]\n",
       "D:\\data science\\gd\\testdata\\r2.epub  [mystery]\n",
       "D:\\data science\\gd\\testdata\\s1.epub  [mystery]\n",
       "D:\\data science\\gd\\testdata\\s2.epub  [mystery]"
      ]
     },
     "execution_count": 96,
     "metadata": {},
     "output_type": "execute_result"
    }
   ],
   "source": [
    "DataFrame(rowss,indexx)"
   ]
  },
  {
   "cell_type": "code",
   "execution_count": 66,
   "metadata": {
    "collapsed": false
   },
   "outputs": [
    {
     "data": {
      "text/html": [
       "<div>\n",
       "<style>\n",
       "    .dataframe thead tr:only-child th {\n",
       "        text-align: right;\n",
       "    }\n",
       "\n",
       "    .dataframe thead th {\n",
       "        text-align: left;\n",
       "    }\n",
       "\n",
       "    .dataframe tbody tr th {\n",
       "        vertical-align: top;\n",
       "    }\n",
       "</style>\n",
       "<table border=\"1\" class=\"dataframe\">\n",
       "  <thead>\n",
       "    <tr style=\"text-align: right;\">\n",
       "      <th></th>\n",
       "      <th>genre</th>\n",
       "    </tr>\n",
       "  </thead>\n",
       "  <tbody>\n",
       "    <tr>\n",
       "      <th>D:\\data science\\Books project\\text testing\\2554-0.txt</th>\n",
       "      <td>[crime]</td>\n",
       "    </tr>\n",
       "  </tbody>\n",
       "</table>\n",
       "</div>"
      ],
      "text/plain": [
       "                                                      genre\n",
       "D:\\data science\\Books project\\text testing\\2554...  [crime]"
      ]
     },
     "execution_count": 66,
     "metadata": {},
     "output_type": "execute_result"
    }
   ],
   "source": [
    "DataFrame(rowss,indexx)"
   ]
  },
  {
   "cell_type": "code",
   "execution_count": 67,
   "metadata": {
    "collapsed": false
   },
   "outputs": [
    {
     "data": {
      "text/plain": [
       "'2554-0.txt'"
      ]
     },
     "execution_count": 67,
     "metadata": {},
     "output_type": "execute_result"
    }
   ],
   "source": [
    "filename"
   ]
  },
  {
   "cell_type": "code",
   "execution_count": null,
   "metadata": {
    "collapsed": true
   },
   "outputs": [],
   "source": []
  },
  {
   "cell_type": "code",
   "execution_count": 68,
   "metadata": {
    "collapsed": false,
    "deletable": true,
    "editable": true
   },
   "outputs": [
    {
     "data": {
      "text/plain": [
       "array(['crime'],\n",
       "      dtype='<U9')"
      ]
     },
     "execution_count": 68,
     "metadata": {},
     "output_type": "execute_result"
    }
   ],
   "source": [
    "predictions"
   ]
  },
  {
   "cell_type": "code",
   "execution_count": 69,
   "metadata": {
    "collapsed": false,
    "deletable": true,
    "editable": true
   },
   "outputs": [
    {
     "ename": "NameError",
     "evalue": "name 'result' is not defined",
     "output_type": "error",
     "traceback": [
      "\u001b[1;31m---------------------------------------------------------------------------\u001b[0m",
      "\u001b[1;31mNameError\u001b[0m                                 Traceback (most recent call last)",
      "\u001b[1;32m<ipython-input-69-a5b1e83cd027>\u001b[0m in \u001b[0;36m<module>\u001b[1;34m()\u001b[0m\n\u001b[1;32m----> 1\u001b[1;33m \u001b[0mresult\u001b[0m\u001b[1;33m\u001b[0m\u001b[0m\n\u001b[0m",
      "\u001b[1;31mNameError\u001b[0m: name 'result' is not defined"
     ]
    }
   ],
   "source": [
    "result"
   ]
  },
  {
   "cell_type": "code",
   "execution_count": 70,
   "metadata": {
    "collapsed": false,
    "deletable": true,
    "editable": true
   },
   "outputs": [
    {
     "ename": "NameError",
     "evalue": "name 'matrix' is not defined",
     "output_type": "error",
     "traceback": [
      "\u001b[1;31m---------------------------------------------------------------------------\u001b[0m",
      "\u001b[1;31mNameError\u001b[0m                                 Traceback (most recent call last)",
      "\u001b[1;32m<ipython-input-70-632316f5ecdb>\u001b[0m in \u001b[0;36m<module>\u001b[1;34m()\u001b[0m\n\u001b[1;32m----> 1\u001b[1;33m \u001b[0mmatrix\u001b[0m\u001b[1;33m\u001b[0m\u001b[0m\n\u001b[0m",
      "\u001b[1;31mNameError\u001b[0m: name 'matrix' is not defined"
     ]
    }
   ],
   "source": [
    "matrix"
   ]
  },
  {
   "cell_type": "code",
   "execution_count": 71,
   "metadata": {
    "collapsed": false,
    "deletable": true,
    "editable": true
   },
   "outputs": [
    {
     "data": {
      "text/plain": [
       "<1x36011 sparse matrix of type '<class 'numpy.int64'>'\n",
       "\twith 8768 stored elements in Compressed Sparse Row format>"
      ]
     },
     "execution_count": 71,
     "metadata": {},
     "output_type": "execute_result"
    }
   ],
   "source": [
    "example_counts"
   ]
  },
  {
   "cell_type": "code",
   "execution_count": 72,
   "metadata": {
    "collapsed": false,
    "deletable": true,
    "editable": true
   },
   "outputs": [
    {
     "data": {
      "text/plain": [
       "array(['crime'],\n",
       "      dtype='<U9')"
      ]
     },
     "execution_count": 72,
     "metadata": {},
     "output_type": "execute_result"
    }
   ],
   "source": [
    "predictions"
   ]
  },
  {
   "cell_type": "code",
   "execution_count": 73,
   "metadata": {
    "collapsed": true,
    "deletable": true,
    "editable": true
   },
   "outputs": [],
   "source": [
    "trainingpath = 'C:\\\\Users\\\\Yathish\\\\Desktop\\\\gd\\\\testdata'\n",
    "for path, message in readfiles(trainingpath):\n",
    "    matrix = []\n",
    "    matrix.extend(message)\n",
    "    example_counts = vectorizer.transform(matrix)\n",
    "    predictions = classifier.predict(example_counts)\n",
    "    #result = []\n",
    "    #result.append(predictions)"
   ]
  },
  {
   "cell_type": "code",
   "execution_count": null,
   "metadata": {
    "collapsed": false,
    "deletable": true,
    "editable": true
   },
   "outputs": [],
   "source": [
    "predictions"
   ]
  },
  {
   "cell_type": "code",
   "execution_count": null,
   "metadata": {
    "collapsed": true,
    "deletable": true,
    "editable": true
   },
   "outputs": [],
   "source": [
    "example = 'C:\\\\Users\\\\Yathish\\\\Desktop\\\\gd\\\\testdata\\\\s1.epub'\n",
    "for path, message in readfiles(example):\n",
    "    example_counts = vectorizer.transform(message)\n",
    "    predictions = classifier.predict(example_counts)\n",
    "    predictions"
   ]
  },
  {
   "cell_type": "code",
   "execution_count": null,
   "metadata": {
    "collapsed": false,
    "deletable": true,
    "editable": true
   },
   "outputs": [],
   "source": [
    "classifier.fit(counts, targets)"
   ]
  },
  {
   "cell_type": "code",
   "execution_count": null,
   "metadata": {
    "collapsed": false,
    "deletable": true,
    "editable": true
   },
   "outputs": [],
   "source": [
    "classifier.predict(example_counts)"
   ]
  },
  {
   "cell_type": "code",
   "execution_count": null,
   "metadata": {
    "collapsed": false,
    "deletable": true,
    "editable": true
   },
   "outputs": [],
   "source": [
    "message"
   ]
  },
  {
   "cell_type": "code",
   "execution_count": null,
   "metadata": {
    "collapsed": false,
    "deletable": true,
    "editable": true
   },
   "outputs": [],
   "source": [
    "predictions"
   ]
  },
  {
   "cell_type": "code",
   "execution_count": null,
   "metadata": {
    "collapsed": false,
    "deletable": true,
    "editable": true
   },
   "outputs": [],
   "source": [
    "rf = readfiles(trainingpath)\n",
    "df = \n",
    "\n",
    "trainingpath = 'C:\\\\Users\\\\Yathish\\\\Desktop\\\\gd\\\\testdata'\n",
    "\n",
    "    \n"
   ]
  }
 ],
 "metadata": {
  "kernelspec": {
   "display_name": "Python 3",
   "language": "python",
   "name": "python3"
  },
  "language_info": {
   "codemirror_mode": {
    "name": "ipython",
    "version": 3
   },
   "file_extension": ".py",
   "mimetype": "text/x-python",
   "name": "python",
   "nbconvert_exporter": "python",
   "pygments_lexer": "ipython3",
   "version": "3.5.2"
  }
 },
 "nbformat": 4,
 "nbformat_minor": 2
}
